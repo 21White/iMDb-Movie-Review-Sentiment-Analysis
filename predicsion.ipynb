{
 "cells": [
  {
   "cell_type": "markdown",
   "metadata": {},
   "source": [
    "读取本地模型并预测"
   ]
  },
  {
   "cell_type": "code",
   "execution_count": null,
   "metadata": {},
   "outputs": [
    {
     "name": "stdout",
     "output_type": "stream",
     "text": [
      "Loading the model for inference...\n",
      "Prediction 1 for 'The movie was amazing and full of emotions!': positive with confidence 0.9981749057769775\n",
      "Prediction 2 for 'The movie was fucking crazy!': positive with confidence 0.7615378499031067\n",
      "Prediction 3 for 'This movie is so fucking bad': negative with confidence 0.9987205862998962\n",
      "Prediction 4 for 'The director of this movie is such a fucking fool': negative with confidence 0.9956867098808289\n"
     ]
    }
   ],
   "source": [
    "print(\"Loading the model for inference...\")\n",
    "from transformers import pipeline\n",
    "\n",
    "# 本地模型路径\n",
    "# 绝对路径\n",
    "# output_dir = r\"D:\\code\\MachineLearning\\Final_Project\\drive-download\"\n",
    "# 相对路径\n",
    "output_dir = r\"drive-download\"\n",
    "classifier = pipeline(\"text-classification\", model=output_dir, tokenizer=output_dir)\n",
    "\n",
    "# 标签映射，假设 'LABEL_0' 对应 'negative'，'LABEL_1' 对应 'positive'\n",
    "label_mapping = {\n",
    "    'LABEL_0': 'negative',\n",
    "    'LABEL_1': 'positive'\n",
    "}\n",
    "\n",
    "# 输入文本\n",
    "text1 = \"The movie was amazing and full of emotions!\"\n",
    "text2 = \"The movie was fucking crazy!\"\n",
    "text3 = \"This movie is so fucking bad\"\n",
    "text4 = \"The director of this movie is such a fucking fool\"\n",
    "\n",
    "# 获取预测结果\n",
    "result1 = classifier(text1)\n",
    "result2 = classifier(text2)\n",
    "result3 = classifier(text3)\n",
    "result4 = classifier(text4)\n",
    "\n",
    "# 获取预测标签，并根据标签映射转换为更易理解的标签\n",
    "predicted_label1 = label_mapping.get(result1[0]['label'], result1[0]['label'])  # 如果找不到标签，保持原标签\n",
    "predicted_label2 = label_mapping.get(result2[0]['label'], result2[0]['label'])\n",
    "predicted_label3 = label_mapping.get(result3[0]['label'], result3[0]['label'])\n",
    "predicted_label4 = label_mapping.get(result4[0]['label'], result4[0]['label'])\n",
    "\n",
    "# 输出预测结果\n",
    "print(f\"Prediction 1 for '{text1}': {predicted_label1} with confidence {result1[0]['score']}\")\n",
    "print(f\"Prediction 2 for '{text2}': {predicted_label2} with confidence {result2[0]['score']}\")\n",
    "print(f\"Prediction 3 for '{text3}': {predicted_label3} with confidence {result3[0]['score']}\")\n",
    "print(f\"Prediction 4 for '{text4}': {predicted_label4} with confidence {result4[0]['score']}\")\n"
   ]
  }
 ],
 "metadata": {
  "kernelspec": {
   "display_name": "base",
   "language": "python",
   "name": "python3"
  },
  "language_info": {
   "codemirror_mode": {
    "name": "ipython",
    "version": 3
   },
   "file_extension": ".py",
   "mimetype": "text/x-python",
   "name": "python",
   "nbconvert_exporter": "python",
   "pygments_lexer": "ipython3",
   "version": "3.11.5"
  }
 },
 "nbformat": 4,
 "nbformat_minor": 2
}
